{
 "cells": [
  {
   "cell_type": "markdown",
   "id": "98c8b70c-91ef-43ad-92e0-0e38be745c28",
   "metadata": {
    "id": "497T5nW-MzMF",
    "tags": []
   },
   "source": [
    "# **Data preprocessing**\n"
   ]
  },
  {
   "cell_type": "code",
   "execution_count": 2,
   "id": "0e68c6ad-2a15-424b-937f-c96e98ff6b08",
   "metadata": {
    "ExecuteTime": {
     "end_time": "2023-02-10T03:40:59.672027Z",
     "start_time": "2023-02-10T03:40:59.660012Z"
    },
    "execution": {
     "iopub.execute_input": "2023-04-06T04:52:59.148887Z",
     "iopub.status.busy": "2023-04-06T04:52:59.148345Z",
     "iopub.status.idle": "2023-04-06T04:52:59.561682Z",
     "shell.execute_reply": "2023-04-06T04:52:59.560830Z",
     "shell.execute_reply.started": "2023-04-06T04:52:59.148857Z"
    },
    "id": "0e68c6ad-2a15-424b-937f-c96e98ff6b08",
    "tags": []
   },
   "outputs": [],
   "source": [
    "import random\n",
    "import string\n",
    "import pandas as pd\n",
    "import numpy as np\n",
    "\n",
    "seed = 2023"
   ]
  },
  {
   "cell_type": "code",
   "execution_count": 3,
   "id": "42cea7c9-cd26-4b11-b811-87ab36532cd4",
   "metadata": {
    "execution": {
     "iopub.execute_input": "2023-04-06T04:52:59.563311Z",
     "iopub.status.busy": "2023-04-06T04:52:59.562914Z",
     "iopub.status.idle": "2023-04-06T04:52:59.579212Z",
     "shell.execute_reply": "2023-04-06T04:52:59.578261Z",
     "shell.execute_reply.started": "2023-04-06T04:52:59.563292Z"
    },
    "tags": []
   },
   "outputs": [
    {
     "name": "stdout",
     "output_type": "stream",
     "text": [
      "['XZG72D', 'UW6WRN', 'HFYD2R', 'OH63GP', 'PYIBHW', 'VHZ8N1', 'UX88LB', 'FTF5FK', 'HTG92O', 'GZVSF3', 'P07CI0', 'WYZPDH', 'OH04NP', 'PA5P7I', 'B1KAGF', 'FNL5UD', 'UMGT7S', 'DZKVOX', 'FN8DX0', 'VG9TLA', 'M14UFH', 'DY7TY0', 'BM9TZM', 'O3HRSJ', 'U19O2X', 'XJK01H', 'MWMV55', 'IFXP6N', 'QZV526', 'ZZIK31', 'Q3H58O', 'MYMNP1', 'DINJRC', 'Y95FST', 'XBHTNS', 'AMPPZ7', 'WC0HX5', 'VO77ZW', 'JCOVRF', 'LH7V14', 'ITM5XR', 'Y0Y922', 'R3FIXD', 'SYSE8P', 'OC06OQ', 'MGHI5B', 'P9FM3C', 'W1OHL3', 'NE2B5A', 'CQRTSP', 'DT4A3Z', 'E5L8II', 'EPX99K', 'JTW22A', 'ZOFJJZ', 'VNMXDD', 'GM1H31', 'T18RYU', 'QFXNP3', 'KPWF7J', 'WZJP80', 'EDVCZM', 'G88J1C', 'TVH69B', 'S95RSH', 'PP2WVF', 'MSH73Z', 'B1D0LH', 'HS6HYP', 'GOIJIC', 'MUVTO3', 'TQ74PN', 'WRPBRC', 'OP0KOH', 'YPQ9NB', 'Z1OTZZ', 'BM7VB2', 'ZDSRIZ', 'ZBYY3C', 'L7MFXR', 'XQBGQX', 'SWEJ7H', 'DPPXRX', 'C7ILJ2', 'VHEHT0', 'RSXQMB', 'UXOWPP', 'YN3ND5', 'URDPAH', 'KNPIN9', 'JVHYLF', 'ZPWVZZ', 'XC2X1L', 'C1GXUI', 'P02XU4', 'WNN77P', 'QN7RWH', 'QSPF8C', 'Y5OGYV', 'BLJ7GA']\n"
     ]
    }
   ],
   "source": [
    "# set seed for reproducibility\n",
    "np.random.seed(seed)\n",
    "\n",
    "def generate_id(used_ids):\n",
    "    while True:\n",
    "        # generate the first character as a letter\n",
    "        first_char = np.random.choice(list(string.ascii_uppercase))\n",
    "        # generate the remaining 5 characters as alphanumeric\n",
    "        remaining_chars = ''.join(np.random.choice(list(string.ascii_uppercase + string.digits), size=5))\n",
    "        # concatenate the characters\n",
    "        new_id = f\"{first_char}{remaining_chars}\"\n",
    "        # check if the ID is unique\n",
    "        if new_id not in used_ids:\n",
    "            used_ids.add(new_id)\n",
    "            return new_id\n",
    "\n",
    "# generate 100 unique IDs\n",
    "used_ids = set()\n",
    "user_ids = [generate_id(used_ids) for _ in range(100)]\n",
    "print(user_ids)"
   ]
  },
  {
   "cell_type": "code",
   "execution_count": 4,
   "id": "3540b63e",
   "metadata": {},
   "outputs": [
    {
     "name": "stdout",
     "output_type": "stream",
     "text": [
      "['I6A1B9', 'KC64K5', 'PL21J0', 'U57W1W', 'XF3EWU', 'IS70KH', 'Q4N6AN', 'XWLIN3', 'WBIB7A', 'MHL1NC', 'WXU3WX', 'DDLU0F', 'QBZ6TJ', 'U26LWG', 'H25MNQ', 'YKXXKL', 'TS35A6', 'T9UOFE', 'KHEZXZ', 'S2GXRN', 'U1FY60', 'NSH18X', 'A3YKCI', 'ZT48A1', 'D6ZPTK', 'HT7I5Z', 'HPUHZX', 'CSWM3T', 'XODX7N', 'YXDUVM', 'TBZTHS', 'QN08WF', 'VSJFJL', 'Q3UZT9', 'SHIR6T', 'UKO163', 'WP5QRW', 'LHMMZ4', 'H2OB1L', 'K6C4MX', 'ROBJAI', 'AR65EU', 'UZGPQU', 'BYWHZE', 'BU01Q3', 'T0UHND', 'CBZ7I4', 'P0R7QH', 'V4FPPH', 'FQA661', 'LEGPVB', 'D4MEK1', 'EHZ8U8', 'PVQP7Y', 'H7EI6S', 'SD5DAD', 'B1PWU5', 'JY8ZT3', 'R09OUS', 'CL8D5K', 'YDSPD8', 'IL83GL', 'J7CM34', 'ZACXUL', 'LQXQ9J', 'TQU550', 'CJALJO', 'J52J4K', 'JL59ZG', 'UJV5SB', 'J6ON7V', 'BAK4M2', 'LYL30E', 'MTQRXQ', 'ESOBAR', 'RC2066', 'OSQL3K', 'HLUAV1', 'C70JHE', 'YG43AZ', 'VJ20MF', 'C4DTRJ', 'JSKDVS', 'MZ8NH5', 'QEJJED', 'EIUH5R', 'FF4HLL', 'J234D9', 'U4RPML', 'OMKH2K', 'OCDDYQ', 'FS20AW', 'RAE8W8', 'PWOVCZ', 'O4CQ23', 'UTJBES', 'GJ2124', 'EX3FCI', 'IIOSZ6', 'BERYZR']\n"
     ]
    }
   ],
   "source": [
    "# set seed for reproducibility\n",
    "np.random.seed(seed+1)\n",
    "\n",
    "def generate_private_id(used_ids):\n",
    "    while True:\n",
    "        # generate the first character as a letter\n",
    "        first_char = np.random.choice(list(string.ascii_uppercase))\n",
    "        # generate the remaining 5 characters as alphanumeric\n",
    "        remaining_chars = ''.join(np.random.choice(list(string.ascii_uppercase + string.digits), size=5))\n",
    "        # concatenate the characters\n",
    "        new_id = f\"{first_char}{remaining_chars}\"\n",
    "        # check if the ID is unique\n",
    "        if new_id not in private_user_ids:\n",
    "            private_user_ids.add(new_id)\n",
    "            return new_id\n",
    "\n",
    "# generate 100 unique IDs\n",
    "private_user_ids = set()\n",
    "private_user_ids = [generate_private_id(private_user_ids) for _ in range(100)]\n",
    "print(private_user_ids)"
   ]
  },
  {
   "cell_type": "code",
   "execution_count": 5,
   "id": "d9021c4e-6bf6-4135-955b-bd5f458599dc",
   "metadata": {
    "execution": {
     "iopub.execute_input": "2023-04-06T04:52:59.860268Z",
     "iopub.status.busy": "2023-04-06T04:52:59.859276Z",
     "iopub.status.idle": "2023-04-06T04:52:59.869324Z",
     "shell.execute_reply": "2023-04-06T04:52:59.868547Z",
     "shell.execute_reply.started": "2023-04-06T04:52:59.860190Z"
    },
    "tags": []
   },
   "outputs": [
    {
     "name": "stdout",
     "output_type": "stream",
     "text": [
      "['F', 'A', 'D', 'D', 'D', 'B', 'D', 'C', 'F', 'A', 'A', 'F', 'C', 'B', 'A', 'B', 'B', 'A', 'B', 'F', 'D', 'A', 'D', 'A', 'C', 'D', 'A', 'B', 'D', 'D', 'D', 'A', 'B', 'B', 'B', 'A', 'C', 'F', 'D', 'D', 'C', 'F', 'C', 'A', 'A', 'F', 'A', 'F', 'B', 'F', 'B', 'C', 'C', 'A', 'B', 'B', 'B', 'B', 'D', 'D', 'C', 'D', 'A', 'D', 'F', 'B', 'C', 'F', 'D', 'F', 'F', 'F', 'D', 'F', 'F', 'F', 'A', 'F', 'D', 'C', 'A', 'B', 'B', 'D', 'A', 'A', 'B', 'C', 'F', 'C', 'A', 'D', 'C', 'C', 'A', 'B', 'A', 'C', 'C', 'D']\n"
     ]
    }
   ],
   "source": [
    "# set seed for reproducibility\n",
    "np.random.seed(0)\n",
    "\n",
    "def get_random_grade():\n",
    "    grades = [\"A\", \"B\", \"C\", \"D\", \"F\"]\n",
    "    return np.random.choice(grades)\n",
    "\n",
    "math_grades = [get_random_grade() for _ in range(100)]\n",
    "\n",
    "print(math_grades)"
   ]
  },
  {
   "cell_type": "code",
   "execution_count": 6,
   "id": "f5f01329-130e-457d-a13b-a14c11cfc8b9",
   "metadata": {
    "execution": {
     "iopub.execute_input": "2023-04-06T04:53:00.115811Z",
     "iopub.status.busy": "2023-04-06T04:53:00.115102Z",
     "iopub.status.idle": "2023-04-06T04:53:00.123962Z",
     "shell.execute_reply": "2023-04-06T04:53:00.123196Z",
     "shell.execute_reply.started": "2023-04-06T04:53:00.115783Z"
    },
    "tags": []
   },
   "outputs": [
    {
     "name": "stdout",
     "output_type": "stream",
     "text": [
      "['D', 'F', 'A', 'B', 'D', 'A', 'A', 'B', 'F', 'F', 'B', 'C', 'F', 'C', 'F', 'D', 'F', 'C', 'F', 'C', 'F', 'B', 'B', 'A', 'B', 'B', 'B', 'B', 'A', 'F', 'B', 'A', 'A', 'D', 'C', 'B', 'A', 'D', 'B', 'B', 'D', 'F', 'A', 'B', 'D', 'F', 'C', 'F', 'A', 'D', 'B', 'C', 'A', 'F', 'B', 'C', 'C', 'B', 'A', 'B', 'D', 'F', 'D', 'B', 'D', 'A', 'A', 'C', 'C', 'B', 'D', 'F', 'C', 'A', 'A', 'B', 'B', 'D', 'A', 'A', 'F', 'C', 'F', 'D', 'D', 'A', 'D', 'F', 'D', 'F', 'F', 'F', 'B', 'A', 'F', 'C', 'A', 'C', 'F', 'B']\n"
     ]
    }
   ],
   "source": [
    "# set seed for reproducibility\n",
    "np.random.seed(1)\n",
    "\n",
    "def get_random_grade():\n",
    "    grades = [\"A\", \"B\", \"C\", \"D\", \"F\"]\n",
    "    return np.random.choice(grades)\n",
    "\n",
    "math_grades = [get_random_grade() for _ in range(100)]\n",
    "\n",
    "print(math_grades)"
   ]
  },
  {
   "cell_type": "code",
   "execution_count": 7,
   "id": "b9bd77a7-b8f9-49b0-a210-8cc16f041555",
   "metadata": {
    "execution": {
     "iopub.execute_input": "2023-04-06T04:53:00.290236Z",
     "iopub.status.busy": "2023-04-06T04:53:00.289353Z",
     "iopub.status.idle": "2023-04-06T04:53:00.298220Z",
     "shell.execute_reply": "2023-04-06T04:53:00.297414Z",
     "shell.execute_reply.started": "2023-04-06T04:53:00.290206Z"
    },
    "tags": []
   },
   "outputs": [
    {
     "name": "stdout",
     "output_type": "stream",
     "text": [
      "['A', 'A', 'D', 'C', 'D', 'A', 'C', 'B', 'D', 'C', 'F', 'F', 'F', 'D', 'F', 'C', 'D', 'D', 'C', 'B', 'C', 'F', 'D', 'A', 'F', 'D', 'B', 'C', 'A', 'F', 'F', 'C', 'F', 'C', 'B', 'A', 'C', 'C', 'B', 'A', 'B', 'A', 'C', 'B', 'B', 'B', 'F', 'C', 'D', 'A', 'D', 'A', 'C', 'C', 'A', 'F', 'C', 'A', 'C', 'F', 'B', 'D', 'A', 'C', 'B', 'F', 'A', 'B', 'B', 'B', 'C', 'F', 'C', 'D', 'F', 'C', 'A', 'C', 'D', 'D', 'A', 'A', 'D', 'D', 'A', 'A', 'C', 'D', 'B', 'C', 'D', 'F', 'D', 'D', 'B', 'F', 'C', 'D', 'A', 'A']\n"
     ]
    }
   ],
   "source": [
    "# set seed for reproducibility\n",
    "np.random.seed(2)\n",
    "\n",
    "def get_random_grade():\n",
    "    grades = [\"A\", \"B\", \"C\", \"D\", \"F\"]\n",
    "    return np.random.choice(grades)\n",
    "\n",
    "language_grades = [get_random_grade() for _ in range(100)]\n",
    "\n",
    "print(language_grades)"
   ]
  },
  {
   "cell_type": "code",
   "execution_count": 8,
   "id": "d71a6d55-0b63-4c9b-b4e7-569283158679",
   "metadata": {
    "execution": {
     "iopub.execute_input": "2023-04-06T04:53:00.442029Z",
     "iopub.status.busy": "2023-04-06T04:53:00.441287Z",
     "iopub.status.idle": "2023-04-06T04:53:00.450298Z",
     "shell.execute_reply": "2023-04-06T04:53:00.449479Z",
     "shell.execute_reply.started": "2023-04-06T04:53:00.441992Z"
    },
    "tags": []
   },
   "outputs": [
    {
     "name": "stdout",
     "output_type": "stream",
     "text": [
      "['C', 'A', 'B', 'D', 'A', 'A', 'A', 'D', 'C', 'D', 'B', 'B', 'C', 'A', 'F', 'F', 'A', 'C', 'B', 'C', 'C', 'C', 'F', 'B', 'D', 'C', 'A', 'B', 'C', 'A', 'D', 'A', 'D', 'B', 'D', 'A', 'F', 'B', 'F', 'F', 'A', 'A', 'B', 'C', 'F', 'A', 'A', 'B', 'B', 'B', 'C', 'D', 'F', 'F', 'D', 'D', 'A', 'A', 'A', 'A', 'C', 'C', 'D', 'A', 'A', 'B', 'F', 'B', 'F', 'C', 'C', 'F', 'F', 'C', 'A', 'F', 'A', 'D', 'C', 'A', 'F', 'D', 'B', 'B', 'A', 'A', 'A', 'A', 'B', 'B', 'F', 'A', 'D', 'F', 'C', 'A', 'A', 'F', 'F', 'F']\n"
     ]
    }
   ],
   "source": [
    "# set seed for reproducibility\n",
    "np.random.seed(3)\n",
    "\n",
    "def get_random_grade():\n",
    "    grades = [\"A\", \"B\", \"C\", \"D\", \"F\"]\n",
    "    return np.random.choice(grades)\n",
    "\n",
    "economy_grades = [get_random_grade() for _ in range(100)]\n",
    "\n",
    "print(economy_grades)"
   ]
  },
  {
   "cell_type": "code",
   "execution_count": 9,
   "id": "8d19385e-f6d2-45df-a6b3-4f7f92f54af9",
   "metadata": {
    "execution": {
     "iopub.execute_input": "2023-04-06T04:53:00.579223Z",
     "iopub.status.busy": "2023-04-06T04:53:00.578240Z",
     "iopub.status.idle": "2023-04-06T04:53:00.587716Z",
     "shell.execute_reply": "2023-04-06T04:53:00.586869Z",
     "shell.execute_reply.started": "2023-04-06T04:53:00.579184Z"
    },
    "tags": []
   },
   "outputs": [
    {
     "name": "stdout",
     "output_type": "stream",
     "text": [
      "['C', 'B', 'A', 'A', 'C', 'B', 'C', 'F', 'B', 'A', 'F', 'C', 'F', 'C', 'F', 'D', 'A', 'B', 'A', 'C', 'A', 'B', 'C', 'C', 'A', 'A', 'D', 'C', 'B', 'A', 'F', 'D', 'C', 'D', 'C', 'B', 'C', 'B', 'A', 'B', 'B', 'B', 'D', 'A', 'F', 'C', 'D', 'D', 'A', 'C', 'C', 'B', 'C', 'D', 'A', 'F', 'D', 'D', 'D', 'D', 'A', 'B', 'A', 'D', 'C', 'A', 'F', 'D', 'A', 'F', 'A', 'B', 'B', 'F', 'C', 'D', 'D', 'F', 'A', 'F', 'A', 'D', 'D', 'F', 'C', 'B', 'D', 'B', 'F', 'D', 'A', 'C', 'A', 'A', 'D', 'F', 'F', 'A', 'C', 'B']\n"
     ]
    }
   ],
   "source": [
    "# set seed for reproducibility\n",
    "np.random.seed(4)\n",
    "\n",
    "def get_random_grade():\n",
    "    grades = [\"A\", \"B\", \"C\", \"D\", \"F\"]\n",
    "    return np.random.choice(grades)\n",
    "\n",
    "chemistry_grades = [get_random_grade() for _ in range(100)]\n",
    "\n",
    "print(chemistry_grades)"
   ]
  },
  {
   "cell_type": "code",
   "execution_count": 10,
   "id": "43cc0df6-5d5b-4d01-b6b7-c11b9d937484",
   "metadata": {
    "execution": {
     "iopub.execute_input": "2023-04-06T04:53:00.720424Z",
     "iopub.status.busy": "2023-04-06T04:53:00.719727Z",
     "iopub.status.idle": "2023-04-06T04:53:00.728280Z",
     "shell.execute_reply": "2023-04-06T04:53:00.727508Z",
     "shell.execute_reply.started": "2023-04-06T04:53:00.720403Z"
    },
    "tags": []
   },
   "outputs": [
    {
     "name": "stdout",
     "output_type": "stream",
     "text": [
      "['D', 'A', 'B', 'A', 'F', 'D', 'A', 'A', 'F', 'B', 'A', 'D', 'F', 'D', 'B', 'F', 'C', 'B', 'B', 'C', 'B', 'B', 'B', 'C', 'A', 'C', 'A', 'A', 'F', 'F', 'B', 'D', 'D', 'C', 'F', 'B', 'D', 'D', 'C', 'B', 'F', 'F', 'D', 'D', 'D', 'F', 'B', 'D', 'D', 'D', 'B', 'B', 'A', 'C', 'B', 'A', 'C', 'D', 'A', 'D', 'A', 'A', 'F', 'F', 'C', 'A', 'D', 'A', 'A', 'A', 'C', 'F', 'D', 'B', 'F', 'C', 'F', 'D', 'A', 'A', 'B', 'F', 'D', 'F', 'B', 'A', 'A', 'C', 'F', 'D', 'C', 'F', 'B', 'C', 'D', 'F', 'D', 'F', 'D', 'B']\n"
     ]
    }
   ],
   "source": [
    "# set seed for reproducibility\n",
    "np.random.seed(5)\n",
    "\n",
    "def get_random_grade():\n",
    "    grades = [\"A\", \"B\", \"C\", \"D\", \"F\"]\n",
    "    return np.random.choice(grades)\n",
    "\n",
    "physics_grades = [get_random_grade() for _ in range(100)]\n",
    "\n",
    "print(physics_grades)"
   ]
  },
  {
   "cell_type": "code",
   "execution_count": 11,
   "id": "70fd4ad0-b6cc-4b1d-ad17-bf37ce469ab5",
   "metadata": {
    "execution": {
     "iopub.execute_input": "2023-04-06T04:53:00.849873Z",
     "iopub.status.busy": "2023-04-06T04:53:00.849191Z",
     "iopub.status.idle": "2023-04-06T04:53:00.858152Z",
     "shell.execute_reply": "2023-04-06T04:53:00.857346Z",
     "shell.execute_reply.started": "2023-04-06T04:53:00.849844Z"
    },
    "tags": []
   },
   "outputs": [
    {
     "name": "stdout",
     "output_type": "stream",
     "text": [
      "['C', 'B', 'D', 'F', 'C', 'C', 'A', 'B', 'B', 'D', 'B', 'C', 'B', 'F', 'F', 'B', 'A', 'C', 'F', 'F', 'D', 'C', 'C', 'B', 'C', 'D', 'B', 'F', 'A', 'C', 'C', 'D', 'F', 'F', 'D', 'B', 'C', 'C', 'A', 'C', 'C', 'C', 'D', 'D', 'B', 'C', 'D', 'B', 'D', 'B', 'A', 'A', 'C', 'D', 'F', 'D', 'A', 'B', 'F', 'C', 'F', 'B', 'D', 'B', 'B', 'F', 'A', 'C', 'A', 'B', 'B', 'C', 'C', 'B', 'F', 'C', 'F', 'B', 'D', 'D', 'B', 'F', 'B', 'A', 'F', 'C', 'C', 'C', 'F', 'C', 'B', 'F', 'C', 'C', 'D', 'F', 'F', 'F', 'F', 'F']\n"
     ]
    }
   ],
   "source": [
    "# set seed for reproducibility\n",
    "np.random.seed(6)\n",
    "\n",
    "def get_random_grade():\n",
    "    grades = [\"A\", \"B\", \"C\", \"D\", \"F\"]\n",
    "    return np.random.choice(grades)\n",
    "\n",
    "biology_grades = [get_random_grade() for _ in range(100)]\n",
    "\n",
    "print(biology_grades)"
   ]
  },
  {
   "cell_type": "code",
   "execution_count": 12,
   "id": "0d91251b-1fe9-4b12-844c-193e2d3bf6cd",
   "metadata": {
    "execution": {
     "iopub.execute_input": "2023-04-06T04:53:00.989927Z",
     "iopub.status.busy": "2023-04-06T04:53:00.989242Z",
     "iopub.status.idle": "2023-04-06T04:53:00.997690Z",
     "shell.execute_reply": "2023-04-06T04:53:00.996896Z",
     "shell.execute_reply.started": "2023-04-06T04:53:00.989898Z"
    },
    "tags": []
   },
   "outputs": [
    {
     "name": "stdout",
     "output_type": "stream",
     "text": [
      "['F', 'B', 'D', 'D', 'F', 'B', 'A', 'B', 'C', 'C', 'A', 'F', 'A', 'F', 'A', 'D', 'C', 'D', 'F', 'F', 'A', 'A', 'A', 'D', 'A', 'C', 'A', 'B', 'F', 'B', 'D', 'D', 'A', 'D', 'A', 'B', 'A', 'A', 'F', 'F', 'F', 'C', 'B', 'D', 'A', 'F', 'A', 'F', 'D', 'B', 'D', 'D', 'D', 'B', 'D', 'D', 'F', 'D', 'B', 'D', 'B', 'B', 'B', 'C', 'D', 'C', 'C', 'D', 'D', 'C', 'A', 'F', 'D', 'B', 'B', 'F', 'D', 'F', 'F', 'F', 'D', 'D', 'A', 'F', 'D', 'A', 'C', 'C', 'D', 'C', 'D', 'F', 'F', 'A', 'F', 'D', 'B', 'C', 'F', 'F']\n"
     ]
    }
   ],
   "source": [
    "# set seed for reproducibility\n",
    "np.random.seed(7)\n",
    "\n",
    "def get_random_grade():\n",
    "    grades = [\"A\", \"B\", \"C\", \"D\", \"F\"]\n",
    "    return np.random.choice(grades)\n",
    "\n",
    "programming_grades = [get_random_grade() for _ in range(100)]\n",
    "\n",
    "print(programming_grades)"
   ]
  },
  {
   "cell_type": "markdown",
   "id": "583da28d-1fb5-4d7a-a530-a28f22756004",
   "metadata": {
    "tags": []
   },
   "source": [
    "# **Creating the CSVs**"
   ]
  },
  {
   "cell_type": "code",
   "execution_count": 13,
   "id": "cda3b693-62f8-4943-ad37-04655c8f87b2",
   "metadata": {
    "ExecuteTime": {
     "end_time": "2023-02-10T03:41:42.554593Z",
     "start_time": "2023-02-10T03:41:01.815021Z"
    },
    "execution": {
     "iopub.execute_input": "2023-04-06T04:53:01.258386Z",
     "iopub.status.busy": "2023-04-06T04:53:01.257545Z",
     "iopub.status.idle": "2023-04-06T04:53:01.264674Z",
     "shell.execute_reply": "2023-04-06T04:53:01.263897Z",
     "shell.execute_reply.started": "2023-04-06T04:53:01.258355Z"
    },
    "id": "cda3b693-62f8-4943-ad37-04655c8f87b2",
    "tags": []
   },
   "outputs": [
    {
     "name": "stdout",
     "output_type": "stream",
     "text": [
      "Empty DataFrame\n",
      "Columns: [public_key, private_key, math, language, economy, chemistry, physics, biology, programming]\n",
      "Index: []\n"
     ]
    }
   ],
   "source": [
    "# create a dictionary with column names as keys and empty lists as values\n",
    "data = {\n",
    "    'public_key': [],\n",
    "    'private_key': [],\n",
    "    'math': [],\n",
    "    'language': [],\n",
    "    'economy': [],\n",
    "    'chemistry': [],\n",
    "    'physics': [],\n",
    "    'biology': [],\n",
    "    'programming': []\n",
    "}\n",
    "\n",
    "# create a dataframe from the dictionary\n",
    "df_users = pd.DataFrame(data)\n",
    "\n",
    "# print the dataframe\n",
    "print(df_users)"
   ]
  },
  {
   "cell_type": "code",
   "execution_count": 14,
   "id": "3f2af26f-6fae-43a4-94f8-795b1e6d6238",
   "metadata": {
    "ExecuteTime": {
     "end_time": "2023-02-10T03:42:24.573057Z",
     "start_time": "2023-02-10T03:42:24.564059Z"
    },
    "colab": {
     "base_uri": "https://localhost:8080/"
    },
    "execution": {
     "iopub.execute_input": "2023-04-06T04:53:02.263339Z",
     "iopub.status.busy": "2023-04-06T04:53:02.263118Z",
     "iopub.status.idle": "2023-04-06T04:53:02.281954Z",
     "shell.execute_reply": "2023-04-06T04:53:02.280936Z",
     "shell.execute_reply.started": "2023-04-06T04:53:02.263324Z"
    },
    "id": "3f2af26f-6fae-43a4-94f8-795b1e6d6238",
    "outputId": "e86efde4-de7c-42da-8946-1e2738e91258",
    "tags": []
   },
   "outputs": [
    {
     "data": {
      "text/html": [
       "<div>\n",
       "<style scoped>\n",
       "    .dataframe tbody tr th:only-of-type {\n",
       "        vertical-align: middle;\n",
       "    }\n",
       "\n",
       "    .dataframe tbody tr th {\n",
       "        vertical-align: top;\n",
       "    }\n",
       "\n",
       "    .dataframe thead th {\n",
       "        text-align: right;\n",
       "    }\n",
       "</style>\n",
       "<table border=\"1\" class=\"dataframe\">\n",
       "  <thead>\n",
       "    <tr style=\"text-align: right;\">\n",
       "      <th></th>\n",
       "      <th>public_key</th>\n",
       "      <th>private_key</th>\n",
       "      <th>math</th>\n",
       "      <th>language</th>\n",
       "      <th>economy</th>\n",
       "      <th>chemistry</th>\n",
       "      <th>physics</th>\n",
       "      <th>biology</th>\n",
       "      <th>programming</th>\n",
       "    </tr>\n",
       "    <tr>\n",
       "      <th>student</th>\n",
       "      <th></th>\n",
       "      <th></th>\n",
       "      <th></th>\n",
       "      <th></th>\n",
       "      <th></th>\n",
       "      <th></th>\n",
       "      <th></th>\n",
       "      <th></th>\n",
       "      <th></th>\n",
       "    </tr>\n",
       "  </thead>\n",
       "  <tbody>\n",
       "    <tr>\n",
       "      <th>0</th>\n",
       "      <td>XZG72D</td>\n",
       "      <td>I6A1B9</td>\n",
       "      <td>D</td>\n",
       "      <td>A</td>\n",
       "      <td>C</td>\n",
       "      <td>C</td>\n",
       "      <td>D</td>\n",
       "      <td>C</td>\n",
       "      <td>F</td>\n",
       "    </tr>\n",
       "    <tr>\n",
       "      <th>1</th>\n",
       "      <td>UW6WRN</td>\n",
       "      <td>KC64K5</td>\n",
       "      <td>F</td>\n",
       "      <td>A</td>\n",
       "      <td>A</td>\n",
       "      <td>B</td>\n",
       "      <td>A</td>\n",
       "      <td>B</td>\n",
       "      <td>B</td>\n",
       "    </tr>\n",
       "    <tr>\n",
       "      <th>2</th>\n",
       "      <td>HFYD2R</td>\n",
       "      <td>PL21J0</td>\n",
       "      <td>A</td>\n",
       "      <td>D</td>\n",
       "      <td>B</td>\n",
       "      <td>A</td>\n",
       "      <td>B</td>\n",
       "      <td>D</td>\n",
       "      <td>D</td>\n",
       "    </tr>\n",
       "    <tr>\n",
       "      <th>3</th>\n",
       "      <td>OH63GP</td>\n",
       "      <td>U57W1W</td>\n",
       "      <td>B</td>\n",
       "      <td>C</td>\n",
       "      <td>D</td>\n",
       "      <td>A</td>\n",
       "      <td>A</td>\n",
       "      <td>F</td>\n",
       "      <td>D</td>\n",
       "    </tr>\n",
       "    <tr>\n",
       "      <th>4</th>\n",
       "      <td>PYIBHW</td>\n",
       "      <td>XF3EWU</td>\n",
       "      <td>D</td>\n",
       "      <td>D</td>\n",
       "      <td>A</td>\n",
       "      <td>C</td>\n",
       "      <td>F</td>\n",
       "      <td>C</td>\n",
       "      <td>F</td>\n",
       "    </tr>\n",
       "    <tr>\n",
       "      <th>...</th>\n",
       "      <td>...</td>\n",
       "      <td>...</td>\n",
       "      <td>...</td>\n",
       "      <td>...</td>\n",
       "      <td>...</td>\n",
       "      <td>...</td>\n",
       "      <td>...</td>\n",
       "      <td>...</td>\n",
       "      <td>...</td>\n",
       "    </tr>\n",
       "    <tr>\n",
       "      <th>95</th>\n",
       "      <td>WNN77P</td>\n",
       "      <td>UTJBES</td>\n",
       "      <td>C</td>\n",
       "      <td>F</td>\n",
       "      <td>A</td>\n",
       "      <td>F</td>\n",
       "      <td>F</td>\n",
       "      <td>F</td>\n",
       "      <td>D</td>\n",
       "    </tr>\n",
       "    <tr>\n",
       "      <th>96</th>\n",
       "      <td>QN7RWH</td>\n",
       "      <td>GJ2124</td>\n",
       "      <td>A</td>\n",
       "      <td>C</td>\n",
       "      <td>A</td>\n",
       "      <td>F</td>\n",
       "      <td>D</td>\n",
       "      <td>F</td>\n",
       "      <td>B</td>\n",
       "    </tr>\n",
       "    <tr>\n",
       "      <th>97</th>\n",
       "      <td>QSPF8C</td>\n",
       "      <td>EX3FCI</td>\n",
       "      <td>C</td>\n",
       "      <td>D</td>\n",
       "      <td>F</td>\n",
       "      <td>A</td>\n",
       "      <td>F</td>\n",
       "      <td>F</td>\n",
       "      <td>C</td>\n",
       "    </tr>\n",
       "    <tr>\n",
       "      <th>98</th>\n",
       "      <td>Y5OGYV</td>\n",
       "      <td>IIOSZ6</td>\n",
       "      <td>F</td>\n",
       "      <td>A</td>\n",
       "      <td>F</td>\n",
       "      <td>C</td>\n",
       "      <td>D</td>\n",
       "      <td>F</td>\n",
       "      <td>F</td>\n",
       "    </tr>\n",
       "    <tr>\n",
       "      <th>99</th>\n",
       "      <td>BLJ7GA</td>\n",
       "      <td>BERYZR</td>\n",
       "      <td>B</td>\n",
       "      <td>A</td>\n",
       "      <td>F</td>\n",
       "      <td>B</td>\n",
       "      <td>B</td>\n",
       "      <td>F</td>\n",
       "      <td>F</td>\n",
       "    </tr>\n",
       "  </tbody>\n",
       "</table>\n",
       "<p>100 rows × 9 columns</p>\n",
       "</div>"
      ],
      "text/plain": [
       "        public_key private_key math language economy chemistry physics  \\\n",
       "student                                                                  \n",
       "0           XZG72D      I6A1B9    D        A       C         C       D   \n",
       "1           UW6WRN      KC64K5    F        A       A         B       A   \n",
       "2           HFYD2R      PL21J0    A        D       B         A       B   \n",
       "3           OH63GP      U57W1W    B        C       D         A       A   \n",
       "4           PYIBHW      XF3EWU    D        D       A         C       F   \n",
       "...            ...         ...  ...      ...     ...       ...     ...   \n",
       "95          WNN77P      UTJBES    C        F       A         F       F   \n",
       "96          QN7RWH      GJ2124    A        C       A         F       D   \n",
       "97          QSPF8C      EX3FCI    C        D       F         A       F   \n",
       "98          Y5OGYV      IIOSZ6    F        A       F         C       D   \n",
       "99          BLJ7GA      BERYZR    B        A       F         B       B   \n",
       "\n",
       "        biology programming  \n",
       "student                      \n",
       "0             C           F  \n",
       "1             B           B  \n",
       "2             D           D  \n",
       "3             F           D  \n",
       "4             C           F  \n",
       "...         ...         ...  \n",
       "95            F           D  \n",
       "96            F           B  \n",
       "97            F           C  \n",
       "98            F           F  \n",
       "99            F           F  \n",
       "\n",
       "[100 rows x 9 columns]"
      ]
     },
     "execution_count": 14,
     "metadata": {},
     "output_type": "execute_result"
    }
   ],
   "source": [
    "np.random.seed(seed)\n",
    "\n",
    "df_users['public_key'] = pd.DataFrame(user_ids)\n",
    "df_users['private_key'] = pd.DataFrame(private_user_ids)\n",
    "df_users['math'] = pd.DataFrame(math_grades)\n",
    "df_users['language'] = pd.DataFrame(language_grades)\n",
    "df_users['economy'] = pd.DataFrame(economy_grades)\n",
    "df_users['chemistry'] = pd.DataFrame(chemistry_grades)\n",
    "df_users['physics'] = pd.DataFrame(physics_grades)\n",
    "df_users['biology'] = pd.DataFrame(biology_grades)\n",
    "df_users['programming'] = pd.DataFrame(programming_grades)\n",
    "df_users.index.name = 'student'\n",
    "\n",
    "df_users"
   ]
  },
  {
   "cell_type": "code",
   "execution_count": 15,
   "id": "bc3d6410-61ad-4cb4-95fc-7173b34c3c84",
   "metadata": {
    "execution": {
     "iopub.execute_input": "2023-04-06T04:53:04.309031Z",
     "iopub.status.busy": "2023-04-06T04:53:04.308535Z",
     "iopub.status.idle": "2023-04-06T04:53:04.320734Z",
     "shell.execute_reply": "2023-04-06T04:53:04.320082Z",
     "shell.execute_reply.started": "2023-04-06T04:53:04.309009Z"
    },
    "tags": []
   },
   "outputs": [],
   "source": [
    "df_users.to_csv('data.csv', index=True)"
   ]
  },
  {
   "cell_type": "code",
   "execution_count": null,
   "id": "45678190",
   "metadata": {},
   "outputs": [],
   "source": []
  }
 ],
 "metadata": {
  "colab": {
   "collapsed_sections": [],
   "name": "Lab1_ee.ortiz_mc.parrad_sj.zona.ipynb",
   "provenance": []
  },
  "gist": {
   "data": {
    "description": "OneDrive/OneDrive - Universidad de los Andes/Universidad/Semestres/09. Noveno semestre/Sistemas de recomendación/Talleres/Taller 1/Solución/Taller1_SR_202310/notebooks/Taller1_data_analysis.ipynb",
    "public": false
   },
   "id": ""
  },
  "kernelspec": {
   "display_name": "Python 3 (ipykernel)",
   "language": "python",
   "name": "python3"
  },
  "language_info": {
   "codemirror_mode": {
    "name": "ipython",
    "version": 3
   },
   "file_extension": ".py",
   "mimetype": "text/x-python",
   "name": "python",
   "nbconvert_exporter": "python",
   "pygments_lexer": "ipython3",
   "version": "3.9.12"
  },
  "toc": {
   "base_numbering": 1,
   "nav_menu": {},
   "number_sections": true,
   "sideBar": true,
   "skip_h1_title": false,
   "title_cell": "Table of Contents",
   "title_sidebar": "Contents",
   "toc_cell": false,
   "toc_position": {
    "height": "calc(100% - 180px)",
    "left": "10px",
    "top": "150px",
    "width": "303.837px"
   },
   "toc_section_display": true,
   "toc_window_display": true
  },
  "varInspector": {
   "cols": {
    "lenName": 16,
    "lenType": 16,
    "lenVar": 40
   },
   "kernels_config": {
    "python": {
     "delete_cmd_postfix": "",
     "delete_cmd_prefix": "del ",
     "library": "var_list.py",
     "varRefreshCmd": "print(var_dic_list())"
    },
    "r": {
     "delete_cmd_postfix": ") ",
     "delete_cmd_prefix": "rm(",
     "library": "var_list.r",
     "varRefreshCmd": "cat(var_dic_list()) "
    }
   },
   "types_to_exclude": [
    "module",
    "function",
    "builtin_function_or_method",
    "instance",
    "_Feature"
   ],
   "window_display": false
  }
 },
 "nbformat": 4,
 "nbformat_minor": 5
}
